{
  "nbformat": 4,
  "nbformat_minor": 0,
  "metadata": {
    "colab": {
      "name": "Day 7 Assignment.ipynb",
      "provenance": []
    },
    "kernelspec": {
      "name": "python3",
      "display_name": "Python 3"
    }
  },
  "cells": [
    {
      "cell_type": "code",
      "metadata": {
        "id": "M0DOLlu13bfR",
        "colab_type": "code",
        "colab": {}
      },
      "source": [
        ""
      ],
      "execution_count": null,
      "outputs": []
    },
    {
      "cell_type": "markdown",
      "metadata": {
        "id": "k-DvIrDI3tue",
        "colab_type": "text"
      },
      "source": [
        "1.Make a new dictionary in which keys become values and values become keys."
      ]
    },
    {
      "cell_type": "code",
      "metadata": {
        "id": "3argvNWM4VCt",
        "colab_type": "code",
        "colab": {
          "base_uri": "https://localhost:8080/",
          "height": 34
        },
        "outputId": "9eb00475-13ec-4225-dcd7-0daf9c9b8f59"
      },
      "source": [
        "port1 = {21:\"FTP\",22:\"SSH\",23:\"telnet\",80:\"http\"} \n",
        "port2 ={value:key for key,value in port1.items()}\n",
        "print(\"The output:\",port2)"
      ],
      "execution_count": 1,
      "outputs": [
        {
          "output_type": "stream",
          "text": [
            "The output: {'FTP': 21, 'SSH': 22, 'telnet': 23, 'http': 80}\n"
          ],
          "name": "stdout"
        }
      ]
    },
    {
      "cell_type": "markdown",
      "metadata": {
        "id": "K0ItujVP4gmI",
        "colab_type": "text"
      },
      "source": [
        "2.Make a new list which conains the sum of number of tuples."
      ]
    },
    {
      "cell_type": "code",
      "metadata": {
        "id": "WUmtKoi37FDK",
        "colab_type": "code",
        "colab": {
          "base_uri": "https://localhost:8080/",
          "height": 34
        },
        "outputId": "169da172-622c-4ba4-e7cf-97b8e8c32e70"
      },
      "source": [
        "list1=[(1,2),(3,4),(5,6),(4,5)]\n",
        "res=[]\n",
        "for each in range(0,len(list1)):\n",
        "    a,b=list1[each]\n",
        "    res.append(a+b)\n",
        "print(res)"
      ],
      "execution_count": 2,
      "outputs": [
        {
          "output_type": "stream",
          "text": [
            "[3, 7, 11, 9]\n"
          ],
          "name": "stdout"
        }
      ]
    },
    {
      "cell_type": "markdown",
      "metadata": {
        "id": "Sy9wdQUZ7Ls0",
        "colab_type": "text"
      },
      "source": [
        "3.Make the elements of inner list and tuples to outer lists."
      ]
    },
    {
      "cell_type": "code",
      "metadata": {
        "id": "emBvtLaV7gAJ",
        "colab_type": "code",
        "colab": {
          "base_uri": "https://localhost:8080/",
          "height": 34
        },
        "outputId": "9dda4171-d861-4334-ba45-76f51d6719a4"
      },
      "source": [
        "list1=[(1,2,3),[1,2],['a','hit','less']]\n",
        "list2=[]\n",
        "list2=[i for each in list1 for i in each]\n",
        "print (list2)"
      ],
      "execution_count": 3,
      "outputs": [
        {
          "output_type": "stream",
          "text": [
            "[1, 2, 3, 1, 2, 'a', 'hit', 'less']\n"
          ],
          "name": "stdout"
        }
      ]
    }
  ]
}