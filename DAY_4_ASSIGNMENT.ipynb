{
  "nbformat": 4,
  "nbformat_minor": 0,
  "metadata": {
    "colab": {
      "name": "DAY 4 ASSIGNMENT.ipynb",
      "provenance": []
    },
    "kernelspec": {
      "name": "python3",
      "display_name": "Python 3"
    }
  },
  "cells": [
    {
      "cell_type": "code",
      "metadata": {
        "id": "LRCrY1qehW4G",
        "colab_type": "code",
        "colab": {}
      },
      "source": [
        ""
      ],
      "execution_count": null,
      "outputs": []
    },
    {
      "cell_type": "markdown",
      "metadata": {
        "id": "RcQzMqB0hXVP",
        "colab_type": "text"
      },
      "source": [
        "Day 4 Assignmenet:\n",
        "1.Find all occurence of substring in the given string.\n"
      ]
    },
    {
      "cell_type": "markdown",
      "metadata": {
        "id": "lBkgZGeViche",
        "colab_type": "text"
      },
      "source": [
        "print the index values \"we\"\n"
      ]
    },
    {
      "cell_type": "markdown",
      "metadata": {
        "id": "HyqLUqrbikS3",
        "colab_type": "text"
      },
      "source": [
        "what we think we become;we are python programmer."
      ]
    },
    {
      "cell_type": "code",
      "metadata": {
        "id": "1PxgvSRmjlXF",
        "colab_type": "code",
        "colab": {
          "base_uri": "https://localhost:8080/",
          "height": 34
        },
        "outputId": "a5e7b9f8-f7e0-48ec-89fc-4f1db8333a65"
      },
      "source": [
        "string = 'what we think we become;we are python programmer'\n",
        "substring = 'we'\n",
        "\n",
        "index = string.find(substring)\n",
        "print(index)"
      ],
      "execution_count": 6,
      "outputs": [
        {
          "output_type": "stream",
          "text": [
            "5\n"
          ],
          "name": "stdout"
        }
      ]
    },
    {
      "cell_type": "code",
      "metadata": {
        "id": "bsGUQQsZk3HG",
        "colab_type": "code",
        "colab": {
          "base_uri": "https://localhost:8080/",
          "height": 34
        },
        "outputId": "8b3b7677-97fc-45b5-de72-034efa692cd2"
      },
      "source": [
        "string = 'what we think we become;we are python programmer'\n",
        "substring = 'we'\n",
        "start=8\n",
        "\n",
        "index = string.find(substring,start)\n",
        "print(index)"
      ],
      "execution_count": 10,
      "outputs": [
        {
          "output_type": "stream",
          "text": [
            "14\n"
          ],
          "name": "stdout"
        }
      ]
    },
    {
      "cell_type": "code",
      "metadata": {
        "id": "XZlgYOE2nTeO",
        "colab_type": "code",
        "colab": {
          "base_uri": "https://localhost:8080/",
          "height": 34
        },
        "outputId": "4755df7c-ad7c-4bf3-e44b-2becd58276b0"
      },
      "source": [
        "string = 'what we think we become;we are python programmer'\n",
        "substring = 'we'\n",
        "start=15\n",
        "\n",
        "index = string.find(substring,start)\n",
        "print(index)"
      ],
      "execution_count": 11,
      "outputs": [
        {
          "output_type": "stream",
          "text": [
            "24\n"
          ],
          "name": "stdout"
        }
      ]
    },
    {
      "cell_type": "markdown",
      "metadata": {
        "id": "D5BVX81onyvv",
        "colab_type": "text"
      },
      "source": [
        "2.explain using islower() isupper() with different kind of strings.\n",
        "1.isupper()"
      ]
    },
    {
      "cell_type": "code",
      "metadata": {
        "id": "WoJspTfHoAbE",
        "colab_type": "code",
        "colab": {
          "base_uri": "https://localhost:8080/",
          "height": 51
        },
        "outputId": "b2e35ea5-4271-4e60-a343-f8e3b1e38dac"
      },
      "source": [
        "string = 'LETSUPGRADE PYTHON'\n",
        "print(string.isupper()) \n",
        "  \n",
        "string = 'letsupgrade python'\n",
        "print(string.isupper())"
      ],
      "execution_count": 12,
      "outputs": [
        {
          "output_type": "stream",
          "text": [
            "True\n",
            "False\n"
          ],
          "name": "stdout"
        }
      ]
    },
    {
      "cell_type": "markdown",
      "metadata": {
        "id": "-le-vlI0oZX4",
        "colab_type": "text"
      },
      "source": [
        "2.islower()"
      ]
    },
    {
      "cell_type": "code",
      "metadata": {
        "id": "YU-gQplWocfW",
        "colab_type": "code",
        "colab": {
          "base_uri": "https://localhost:8080/",
          "height": 51
        },
        "outputId": "5f22a6e8-e804-4b15-96ba-ad3866952c96"
      },
      "source": [
        "string = 'letsupgrade python'\n",
        "print(string.islower()) \n",
        "  \n",
        "string = 'LETSUPGRADE PYTHON'\n",
        "print(string.islower())"
      ],
      "execution_count": 14,
      "outputs": [
        {
          "output_type": "stream",
          "text": [
            "True\n",
            "False\n"
          ],
          "name": "stdout"
        }
      ]
    }
  ]
}