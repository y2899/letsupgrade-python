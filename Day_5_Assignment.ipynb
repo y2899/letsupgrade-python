{
  "nbformat": 4,
  "nbformat_minor": 0,
  "metadata": {
    "colab": {
      "name": "Day 5 Assignment.ipynb",
      "provenance": []
    },
    "kernelspec": {
      "name": "python3",
      "display_name": "Python 3"
    }
  },
  "cells": [
    {
      "cell_type": "markdown",
      "metadata": {
        "id": "nC3EZJdEspVo",
        "colab_type": "text"
      },
      "source": [
        "Day 5 Assignment:\n",
        "1.sort list in increasing order but all zeroes should be at right hand side."
      ]
    },
    {
      "cell_type": "code",
      "metadata": {
        "id": "y_REMbPI9Pfi",
        "colab_type": "code",
        "colab": {
          "base_uri": "https://localhost:8080/",
          "height": 34
        },
        "outputId": "90dde0ec-8f86-4899-a588-b25579c8a934"
      },
      "source": [
        "list = [0,1,2,10,4,1,0,56,2,0,1,3,0,56,0,4]\n",
        "list.sort()\n",
        "k=list.count(0);\n",
        "print(list[k:]+list[:k])"
      ],
      "execution_count": 2,
      "outputs": [
        {
          "output_type": "stream",
          "text": [
            "[1, 1, 1, 2, 2, 3, 4, 4, 10, 56, 56, 0, 0, 0, 0, 0]\n"
          ],
          "name": "stdout"
        }
      ]
    },
    {
      "cell_type": "markdown",
      "metadata": {
        "id": "0yO40yew9aHW",
        "colab_type": "text"
      },
      "source": [
        "2.Merge two sorted lists &produce one sorted list:\n",
        "list1 = [10,20,40,60,70,80]\n",
        "list2 = [5,15,25,35,45,60]"
      ]
    },
    {
      "cell_type": "code",
      "metadata": {
        "id": "loqfEB4fAyen",
        "colab_type": "code",
        "colab": {
          "base_uri": "https://localhost:8080/",
          "height": 34
        },
        "outputId": "829cff23-c743-41dc-e100-8721a2a59c72"
      },
      "source": [
        "list1 = [10,20,40,60,70,80]\n",
        "list2 = [5,15,25,35,45,60]\n",
        "MergedList =list1+list2\n",
        "ResSortedList=[]\n",
        "for i in range(min(MergedList),max(MergedList)+1):\n",
        "    if i in MergedList:\n",
        "        ResSortedList.append(i)\n",
        "print(ResSortedList)"
      ],
      "execution_count": 3,
      "outputs": [
        {
          "output_type": "stream",
          "text": [
            "[5, 10, 15, 20, 25, 35, 40, 45, 60, 70, 80]\n"
          ],
          "name": "stdout"
        }
      ]
    }
  ]
}