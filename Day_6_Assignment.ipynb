{
  "nbformat": 4,
  "nbformat_minor": 0,
  "metadata": {
    "colab": {
      "name": "Day 6 Assignment.ipynb",
      "provenance": []
    },
    "kernelspec": {
      "name": "python3",
      "display_name": "Python 3"
    }
  },
  "cells": [
    {
      "cell_type": "markdown",
      "metadata": {
        "id": "UkHlKkahwroM",
        "colab_type": "text"
      },
      "source": [
        "Day 6 Assignment :\n",
        "1.list1=[1,2,3,4,5,7,8]\n",
        "\n",
        "list2=[\"a\",\"b\",\"c\",\"d\",\"e\"]\n",
        "convert to a dictionary in one line code using list comprehension(without using zip method)"
      ]
    },
    {
      "cell_type": "code",
      "metadata": {
        "id": "0Le-SNYfxu_M",
        "colab_type": "code",
        "colab": {
          "base_uri": "https://localhost:8080/",
          "height": 34
        },
        "outputId": "f5d4af23-ef9b-4ee1-f854-98b97a328b1a"
      },
      "source": [
        "list2= ['a','b','c','d','e']\n",
        "list1= [1,2,3,4,5,6,7,8]\n",
        "result = {}\n",
        "for key in list2:\n",
        "    for values in list1:\n",
        "        result[key] = values\n",
        "        list1.remove(values)\n",
        "        break\n",
        "print(str(result))"
      ],
      "execution_count": 3,
      "outputs": [
        {
          "output_type": "stream",
          "text": [
            "{'a': 1, 'b': 2, 'c': 3, 'd': 4, 'e': 5}\n"
          ],
          "name": "stdout"
        }
      ]
    }
  ]
}