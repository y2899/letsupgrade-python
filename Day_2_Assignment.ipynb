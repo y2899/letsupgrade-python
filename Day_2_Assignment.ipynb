{
  "nbformat": 4,
  "nbformat_minor": 0,
  "metadata": {
    "colab": {
      "name": "Day 2 Assignment.ipynb",
      "provenance": [],
      "collapsed_sections": []
    },
    "kernelspec": {
      "name": "python3",
      "display_name": "Python 3"
    }
  },
  "cells": [
    {
      "cell_type": "code",
      "metadata": {
        "id": "H1iLAxMJHc6a",
        "colab_type": "code",
        "colab": {}
      },
      "source": [
        ""
      ],
      "execution_count": null,
      "outputs": []
    },
    {
      "cell_type": "markdown",
      "metadata": {
        "id": "riOYbIKxKnVA",
        "colab_type": "text"
      },
      "source": [
        "AGENDA OF DAY 2 ASSIGNMENT:\n",
        "1.Basic python syntax:\n",
        " *Backslash.\n",
        " eg:print(\"hello \\\n",
        " python)\n",
        " o/p:hello  python\n",
        " *Triple quotes.\n",
        " eg:(\"\"\"   \"\"\")designs can be printed in between triple quotes.\n",
        " *string inside the quotes.\n",
        " eg:(\"python's world\")o/p:python's world\n",
        " *Escape sequence of string.\n",
        " Name=\"xyz\"\n",
        " Marks=\"90\"\n",
        " Age=\"20\"\n",
        " print(\"The name of the person is\",Name,\"marks is\",Marks,\"age is\",Age)\n",
        " o/p:The name of the person is xyz marks is 90 age i 20.\n",
        " *Formatted output.\n",
        " print(\"the name of person is %s marks is %f age is %d \"%(name,marks,age).\n",
        "\n",
        " 2.Python Variables and Assignment Statements:\n",
        " Python variables.\n",
        " *variable means linking of data to a name.\n",
        " *According to the datatype,the interpreter reserves the memory space.\n",
        " *variable refers to the memory location tht contains data.\n",
        "\n",
        " Rules to define a variable:\n",
        " *A keyword cannot be used as a variable.\n",
        " *A variable can use letters (both uppercase or lower case)numbers and underscore.\n",
        " *A variable cannot start with a number. \n",
        " *python is case sensitive thus variables is also case sensitive.\n",
        "\n",
        "  python assignment statement:\n",
        "  <variable name>=<data> example\n",
        "  x=y=z=10\n",
        "\n",
        "  important points;\n",
        "  *operators in the same box have same precedance.\n",
        "  *operators in the same box group left to right.\n",
        "  *exponentiation,which groups from right to left.\n",
        "\n",
        "  Types of operators:\n",
        "\n",
        "  *ARITHMETIC OPERATORS:+\tAddition\tx + y\t\n",
        "-\tSubtraction\tx - y\t\n",
        "*\tMultiplication\tx * y\t\n",
        "/\tDivision\tx / y\t\n",
        "%\tModulus\tx % y\t\n",
        "**\tExponentiation\tx ** y\t\n",
        "//\tFloor division\tx // y\t\n",
        "\n",
        " *ASSIGNMENT OPERATORS:=\tx = 5\tx = 5\t\n",
        "+=\tx += 3\tx = x + 3\t\n",
        "-=\tx -= 3\tx = x - 3\t\n",
        "*=\tx *= 3\tx = x * 3\t\n",
        "/=\tx /= 3\tx = x / 3\t\n",
        "%=\tx %= 3\tx = x % 3\t\n",
        "//=\tx //= 3\tx = x // 3\t\n",
        "**=\tx **= 3\tx = x ** 3\n",
        "\n",
        "  *COMPARISON OPERATORS:==\tEqual\tx == y\t\n",
        "!=\tNot equal\tx != y\t\n",
        ">\tGreater than\tx > y\t\n",
        "<\tLess than\tx < y\t\n",
        ">=\tGreater than or equal to\tx >= y\t\n",
        "<=\tLess than or equal to\tx <= y\n",
        "\n",
        "  *LOGICAL OPERATORS:and \tReturns True if both statements are true\tx < 5 and  x < 10\t\n",
        "or\tReturns True if one of the statements is true\tx < 5 or x < 4\t\n",
        "not\tReverse the result, returns False if the result is true\tnot(x < 5 and x < 10)\n",
        "\n",
        "  *IDENTITIY OPERATORS:is \tReturns True if both variables are the same object\tx is y\t\n",
        "is not\tReturns True if both variables are not the same object\tx is not y\n",
        "\n",
        " *MEMBERSHIP OPERATORS:n \tReturns True if a sequence with the specified value is present in the object\tx in y\t\n",
        "not in\tReturns True if a sequence with the specified value is not present in the object\tx not in y\n",
        "\n",
        "  *BITWISE OPERATORS:& 1.\tAND\tSets each bit to 1 if both bits are 1\n",
        "2.|\tOR\tSets each bit to 1 if one of two bits is 1\n",
        "3.^\tXOR\tSets each bit to 1 if only one of two bits is 1\n",
        "4.~ \tNOT\tInverts all the bits\n",
        "5.<<\tZero fill left shift\tShift left by pushing zeros in from the right and let the leftmost bits fall off\n",
        "6.>>\tSigned right shift\tShift right by pushing copies of the leftmost bit in from the left, and let the rightmost bits fall off\n",
        "\n",
        "OPERATORS PRCEDANCE:1.**\tExponentiation (raise to the power)\n",
        " 2.~ + -\tComplement, unary plus and minus (method names for the last two are +@ and -@)\n",
        " 3.* / % //\tMultiply, divide, modulo and floor division\n",
        " 4.+ -\tAddition and subtraction\n",
        " 5.>> <<\tRight and left bitwise shift\n",
        " 6.&\tBitwise 'AND'td>\n",
        " 7.^ |\tBitwise exclusive `OR' and regular `OR'\n",
        " 8.<= < > >=\tComparison operators\n",
        " 9.<> == !=\tEquality operators\n",
        " 10.= %= /= //= -= += *= **=\tAssignment operators\n",
        " 11.is is not\tIdentity operators\n",
        " 12.in not in\tMembership operators\n",
        " 13.not or and\tLogical operators based on highest to lowest.\n"
      ]
    },
    {
      "cell_type": "markdown",
      "metadata": {
        "id": "X9bTcZllNFpB",
        "colab_type": "text"
      },
      "source": [
        ""
      ]
    },
    {
      "cell_type": "code",
      "metadata": {
        "id": "VPpOA443NHGO",
        "colab_type": "code",
        "colab": {}
      },
      "source": [
        ""
      ],
      "execution_count": null,
      "outputs": []
    },
    {
      "cell_type": "markdown",
      "metadata": {
        "id": "md9vq0QENHdm",
        "colab_type": "text"
      },
      "source": [
        ""
      ]
    },
    {
      "cell_type": "markdown",
      "metadata": {
        "id": "ujW_KhecNHsN",
        "colab_type": "text"
      },
      "source": [
        ""
      ]
    },
    {
      "cell_type": "code",
      "metadata": {
        "id": "gwRFqR3yHhHq",
        "colab_type": "code",
        "colab": {}
      },
      "source": [
        ""
      ],
      "execution_count": null,
      "outputs": []
    },
    {
      "cell_type": "markdown",
      "metadata": {
        "id": "or5HdUNWHhoo",
        "colab_type": "text"
      },
      "source": [
        ""
      ]
    }
  ]
}